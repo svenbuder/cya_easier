{
 "cells": [
  {
   "cell_type": "markdown",
   "id": "4857233c",
   "metadata": {},
   "source": [
    "# $cya$ later - \"Compare Your Abundances\" applied\n",
    "\n",
    "The intend of this notebook is to read in existing high-quality literature data of elemental abundances and homogenise them to use the same keywords.\n",
    "They are then stored in directories for individual elements to allow everyone to just read in the relevant ones for each element."
   ]
  },
  {
   "cell_type": "code",
   "execution_count": 9,
   "id": "596118a0",
   "metadata": {},
   "outputs": [],
   "source": [
    "# Preamble \n",
    "try:\n",
    "    %matplotlib inline\n",
    "    %config InlineBackend.figure_format='retina'\n",
    "except:\n",
    "    pass\n",
    "\n",
    "# general packages\n",
    "import numpy as np\n",
    "from pathlib import Path\n",
    "import warnings\n",
    "import glob\n",
    "from astroquery.vizier import Vizier\n",
    "\n",
    "# astropy\n",
    "from astropy.table import Table,join,hstack,vstack\n",
    "from astropy.coordinates import SkyCoord\n",
    "from astropy.io import fits\n",
    "import astropy.units as u\n",
    "from astropy.units import UnitsWarning\n",
    "warnings.filterwarnings('ignore', category=UnitsWarning, module='astropy.units.core')\n",
    "\n",
    "# matplotlib\n",
    "import matplotlib.pyplot as plt\n",
    "from matplotlib.colors import LogNorm\n",
    "from matplotlib import rcParams\n",
    "from cycler import cycler\n",
    "rcParams['axes.labelsize'] = 15\n",
    "rcParams['legend.fontsize'] = 15\n",
    "rcParams['figure.titlesize'] = 20\n",
    "custom_colors = ['#000000','#1f77b4','#ff7f0e','#d62728','#e377c2','#9467bd','grey','maroon']\n",
    "rcParams['axes.prop_cycle'] = cycler(color=custom_colors)\n",
    "\n",
    "panels = [\n",
    "    'a)','b)','c)',\n",
    "    'd)','e)','f)',\n",
    "    'g)','h)','i)',\n",
    "    'j)','k)','l)',\n",
    "    'm)','n)','o)',\n",
    "    'q)','r)','s)',\n",
    "    't)','u)','v)',\n",
    "    'w)','x)','y)',\n",
    "    'z)','aa)','ab)',\n",
    "    'ac)','ad)','ae)'\n",
    "]"
   ]
  },
  {
   "cell_type": "code",
   "execution_count": 10,
   "id": "a18f5637",
   "metadata": {},
   "outputs": [
    {
     "name": "stdout",
     "output_type": "stream",
     "text": [
      "Elements in cya_later:\n",
      "['Li', 'C', 'O', 'Na', 'Mg', 'Al', 'Si', 'K', 'Ca', 'Sc', 'Ti', 'V', 'Cr', 'Mn', 'Co', 'Ni', 'Cu', 'Zn', 'Sr', 'Y', 'Zr', 'Mo', 'Ru', 'Ba', 'La', 'Ce', 'Nd', 'Sm', 'Eu', 'Yb']\n"
     ]
    }
   ],
   "source": [
    "# These are the elements reported by the APOGEE and GALAH surveys\n",
    "elements = [\n",
    "    'Li',\n",
    "    'C','N','O',\n",
    "    'Na','Mg','Al','Si','P','S',\n",
    "    'K','Ca','Sc','Ti','V','Cr','Mn','Fe','Co','Ni','Cu','Zn',\n",
    "    'Rb','Sr','Y','Zr','Mo','Ru',\n",
    "    'Ba',\n",
    "    'La','Ce','Nd','Sm','Eu','Yb'\n",
    "]\n",
    "\n",
    "elements_in_cya_later_alphabetical = [path[22:] for path in glob.glob('literature_abundances/*')]\n",
    "elements_in_cya_later = []\n",
    "for element in elements:\n",
    "    if (element in elements_in_cya_later_alphabetical) & (element != 'Fe'):\n",
    "        elements_in_cya_later.append(element)\n",
    "        \n",
    "print('Elements in cya_later:')\n",
    "print(elements_in_cya_later)"
   ]
  },
  {
   "cell_type": "code",
   "execution_count": 11,
   "id": "10eeae8a",
   "metadata": {},
   "outputs": [],
   "source": [
    "def optimal_grid(num_elements):\n",
    "    # Find the optimal grid size (rows, cols) for num_elements\n",
    "    rows = int(np.floor(np.sqrt(num_elements)))\n",
    "    cols = int(np.ceil(num_elements / rows))\n",
    "    if rows * cols < num_elements:\n",
    "        rows += 1\n",
    "    return rows, cols"
   ]
  },
  {
   "cell_type": "markdown",
   "id": "d37fedf0",
   "metadata": {},
   "source": [
    "# Plot all available literature"
   ]
  },
  {
   "cell_type": "code",
   "execution_count": 12,
   "id": "e4902259",
   "metadata": {},
   "outputs": [],
   "source": [
    "def plot_fe_h_vs_x_fe(savefigure=False):\n",
    "        \n",
    "    rows, cols = optimal_grid(len(elements_in_cya_later))\n",
    "    \n",
    "    fig, axes = plt.subplots(rows, cols, figsize=(3*cols,2.5*rows))\n",
    "    axes = axes.flatten()\n",
    "    \n",
    "    for i, element in enumerate(elements_in_cya_later):\n",
    "                \n",
    "        ax = axes[i]\n",
    "        ax.text(0.05,0.95,panels[i],fontsize=15,transform=ax.transAxes,va='top',ha='left',bbox=dict(boxstyle='round', facecolor='w', alpha=0.95))\n",
    "        ax.set_xlabel('[Fe/H]')\n",
    "        ax.set_xlim(-2.9,0.9)\n",
    "        if element == 'Li':\n",
    "            ax.set_ylabel('A(Li)')\n",
    "        else:\n",
    "            ax.set_ylabel('['+element+'/Fe]')\n",
    "\n",
    "        available_literature_for_element = glob.glob('literature_abundances/'+element+'/*')\n",
    "        available_literature_for_element.sort()\n",
    "\n",
    "        for literature_file in available_literature_for_element:\n",
    "            literature_table = Table.read(literature_file)\n",
    "            \n",
    "            author = literature_table['author'][0]\n",
    "            \n",
    "            if author in ['Bensby+14','Bensby+18','Battistini+15','Battistini+16']:\n",
    "                color_kwarg = {'color':custom_colors[0]}\n",
    "            elif author in ['Bensby+17','Bensby+20','Bensby+21']:\n",
    "                color_kwarg = {'color':custom_colors[1]}\n",
    "            elif author in ['Joensson+17','Forsberg+19','Montelius+22']:\n",
    "                color_kwarg = {'color':custom_colors[2]}\n",
    "            elif author in ['Nissen+10','Nissen+11','Nissen+12','Nissen+14']:\n",
    "                color_kwarg = {'color':custom_colors[3]}\n",
    "            elif author in ['Adibekyan+12','DelgadoMena+17']:\n",
    "                color_kwarg = {'color':custom_colors[4]}\n",
    "            elif author in ['Mishenina+11','Mishenina+12','Mishenina+13','Mishenina+15','Mishenina+19']:\n",
    "                color_kwarg = {'color':custom_colors[5]}\n",
    "            elif author in ['Zhao+16']:\n",
    "                color_kwarg = {'color':custom_colors[6]}\n",
    "            else:\n",
    "                color_kwarg = {'color':custom_colors[7]}\n",
    "\n",
    "            if element == 'Li':\n",
    "                ax.set_ylabel('A(Li)')\n",
    "                ydata = literature_table['a_li']\n",
    "                yerr  = literature_table['e_a_li']\n",
    "            else:\n",
    "                ax.set_ylabel('['+element+'/Fe]')\n",
    "                ydata = literature_table[element.lower()+'_h'] - literature_table['fe_h']\n",
    "                yerr  = literature_table['e_'+element.lower()+'_h']\n",
    "\n",
    "            ax.errorbar(\n",
    "                literature_table['fe_h'],\n",
    "                ydata,\n",
    "                xerr = literature_table['e_fe_h'],\n",
    "                yerr = yerr,\n",
    "                label = '_nolegend_',\n",
    "                fmt = 'o', ms = 2, lw=0.25, alpha = 0.5,\n",
    "                **color_kwarg\n",
    "            )\n",
    "            ax.scatter(\n",
    "                literature_table['fe_h'],\n",
    "                ydata,\n",
    "                label = author,\n",
    "                s = 1,\n",
    "                **color_kwarg\n",
    "            )\n",
    "        \n",
    "        ax.legend(fontsize=6, ncol=2, loc='lower left', markerscale=2, columnspacing=1)\n",
    "    \n",
    "    # Turn off empty subpanels\n",
    "    for j in range(len(elements_in_cya_later), rows * cols):\n",
    "        fig.delaxes(axes[j])\n",
    "    \n",
    "    plt.tight_layout()\n",
    "    \n",
    "    if savefigure:\n",
    "        plt.savefig('figures/overview_available_fe_h_vs_x_fe.png', dpi=300, bbox_inches='tight')\n",
    "    \n",
    "    plt.show()\n",
    "    plt.close()"
   ]
  },
  {
   "cell_type": "code",
   "execution_count": null,
   "id": "67f5bd4a",
   "metadata": {
    "scrolled": false
   },
   "outputs": [
    {
     "name": "stderr",
     "output_type": "stream",
     "text": [
      "/Users/buder/opt/anaconda3/lib/python3.9/site-packages/matplotlib/axes/_base.py:2475: UserWarning: Warning: converting a masked element to nan.\n",
      "  xys = np.asarray(xys)\n",
      "/Users/buder/opt/anaconda3/lib/python3.9/site-packages/matplotlib/axes/_base.py:2475: UserWarning: Warning: converting a masked element to nan.\n",
      "  xys = np.asarray(xys)\n",
      "/Users/buder/opt/anaconda3/lib/python3.9/site-packages/matplotlib/axes/_base.py:2475: UserWarning: Warning: converting a masked element to nan.\n",
      "  xys = np.asarray(xys)\n"
     ]
    }
   ],
   "source": [
    "plot_fe_h_vs_x_fe(savefigure=True)"
   ]
  },
  {
   "cell_type": "code",
   "execution_count": null,
   "id": "216de694",
   "metadata": {},
   "outputs": [],
   "source": []
  }
 ],
 "metadata": {
  "kernelspec": {
   "display_name": "Python 3 (ipykernel)",
   "language": "python",
   "name": "python3"
  },
  "language_info": {
   "codemirror_mode": {
    "name": "ipython",
    "version": 3
   },
   "file_extension": ".py",
   "mimetype": "text/x-python",
   "name": "python",
   "nbconvert_exporter": "python",
   "pygments_lexer": "ipython3",
   "version": "3.9.12"
  }
 },
 "nbformat": 4,
 "nbformat_minor": 5
}
