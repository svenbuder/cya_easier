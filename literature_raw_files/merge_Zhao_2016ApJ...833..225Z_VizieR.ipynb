{
 "cells": [
  {
   "cell_type": "code",
   "execution_count": 1,
   "id": "2c96ae11",
   "metadata": {},
   "outputs": [],
   "source": [
    "import numpy as np\n",
    "from astropy.table import Table, join, vstack, hstack"
   ]
  },
  {
   "cell_type": "code",
   "execution_count": 108,
   "id": "23096e73",
   "metadata": {
    "scrolled": true
   },
   "outputs": [
    {
     "name": "stderr",
     "output_type": "stream",
     "text": [
      "WARNING: UnitsWarning: 'log(Sun)' did not parse as fits unit: 'log' is not a recognized function If this is meant to be a custom unit, define it with 'u.def_unit'. To have it recognized inside a file reader or other code, enable it with 'u.add_enabled_units'. For details, see https://docs.astropy.org/en/latest/units/combining_and_defining.html [astropy.units.core]\n",
      "WARNING: UnitsWarning: 'log(Sun)' did not parse as fits unit: 'log' is not a recognized function If this is meant to be a custom unit, define it with 'u.def_unit'. To have it recognized inside a file reader or other code, enable it with 'u.add_enabled_units'. For details, see https://docs.astropy.org/en/latest/units/combining_and_defining.html [astropy.units.core]\n"
     ]
    }
   ],
   "source": [
    "zhao1 = Table.read('Zhao_2016ApJ...833..225Z_VizieR.fits',1)\n",
    "zhao1['Name_x'] = [name.replace(' ','') for name in zhao1['Name']]\n",
    "zhao1.remove_columns(['Teff','logg','__Fe_H_','xi'])\n",
    "zhao2 = Table.read('Zhao_2016ApJ...833..225Z_VizieR.fits',2)\n",
    "sitnova = Table.read('Sitnova_2015ApJ...808..148S.csv')\n",
    "sitnova.rename_column('Name','Name_x')"
   ]
  },
  {
   "cell_type": "code",
   "execution_count": 109,
   "id": "559823dd",
   "metadata": {},
   "outputs": [],
   "source": [
    "zhao1_sitnova = join(zhao1, sitnova, keys = 'Name_x', join_type='left')\n",
    "zhao1_sitnova.sort('recno')"
   ]
  },
  {
   "cell_type": "code",
   "execution_count": 110,
   "id": "73d2b592",
   "metadata": {},
   "outputs": [],
   "source": [
    "merged = Table()\n",
    "\n",
    "for key in zhao1_sitnova.keys():\n",
    "    merged[key] = zhao1_sitnova[key]\n",
    "    \n",
    "for species in np.unique(zhao2['Species']):\n",
    "    \n",
    "    if species != 'CH   ':\n",
    "\n",
    "        if species[-2:] == ' I':\n",
    "            element = species[:-2].replace(\" \", \"\")\n",
    "        else:\n",
    "            element = species[:-3].replace(\" \", \"\")\n",
    "\n",
    "        merged[element+'_H'] = np.zeros(len(merged['Name']))\n",
    "        merged['e_'+element+'_H'] = np.zeros(len(merged['Name']))\n",
    "        merged['flag_'+element+'_H'] = np.zeros(len(merged['Name']),dtype=np.int32)\n",
    "        merged[element+'_H_LTE'] = np.zeros(len(merged['Name']))\n",
    "        merged['e_'+element+'_H_LTE'] = np.zeros(len(merged['Name']))\n",
    "        merged['flag_'+element+'_H_LTE'] = np.zeros(len(merged['Name']),dtype=np.int32)\n",
    "\n",
    "        for star_index, star in enumerate(merged['Name']):\n",
    "\n",
    "            this_star_and_element = (\n",
    "                (zhao2['Name'] == star) & \n",
    "                (zhao2['Species'] == species)\n",
    "            )\n",
    "            if len(zhao2['Species'][this_star_and_element]) == 1:\n",
    "                merged[element+'_H'][star_index] = np.array(zhao2[this_star_and_element]['__X_H_NLTE'],dtype=np.float32)\n",
    "                merged['e_'+element+'_H'][star_index] = np.array(zhao2[this_star_and_element]['e__X_H_NLTE'],dtype=np.float32)                \n",
    "                merged[element+'_H_LTE'][star_index] = np.array(zhao2[this_star_and_element]['__X_H_LTE'],dtype=np.float32)\n",
    "                merged['e_'+element+'_H_LTE'][star_index] = np.array(zhao2[this_star_and_element]['e__X_H_LTE'],dtype=np.float32)\n",
    "            else:\n",
    "                raise ValueError('No entry found for '+star+' and '+species)\n",
    "                \n",
    "        no_detection = np.isnan(merged[element+'_H'])\n",
    "        merged['flag_'+element+'_H'][no_detection] += 2\n",
    "        merged['flag_'+element+'_H_LTE'][no_detection] += 2\n",
    "\n",
    "        upper_limit = np.isfinite(merged[element+'_H']) & np.isnan(merged['e_'+element+'_H'])\n",
    "        merged['flag_'+element+'_H'][upper_limit] += 1\n",
    "        merged['flag_'+element+'_H_LTE'][upper_limit] += 1\n",
    "        \n",
    "merged.write('Zhao_2016ApJ...833..225Z_VizieR_merged.fits',overwrite=True)"
   ]
  },
  {
   "cell_type": "code",
   "execution_count": null,
   "id": "dbfa3dc7",
   "metadata": {},
   "outputs": [],
   "source": []
  }
 ],
 "metadata": {
  "kernelspec": {
   "display_name": "Python 3 (ipykernel)",
   "language": "python",
   "name": "python3"
  },
  "language_info": {
   "codemirror_mode": {
    "name": "ipython",
    "version": 3
   },
   "file_extension": ".py",
   "mimetype": "text/x-python",
   "name": "python",
   "nbconvert_exporter": "python",
   "pygments_lexer": "ipython3",
   "version": "3.9.12"
  }
 },
 "nbformat": 4,
 "nbformat_minor": 5
}
